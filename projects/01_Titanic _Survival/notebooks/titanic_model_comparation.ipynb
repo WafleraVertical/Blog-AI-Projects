{
 "cells": [
  {
   "cell_type": "code",
   "id": "initial_id",
   "metadata": {
    "collapsed": true,
    "ExecuteTime": {
     "end_time": "2025-06-25T01:42:04.694858Z",
     "start_time": "2025-06-25T01:42:03.823303Z"
    }
   },
   "source": [
    "# ### Step 0: Import Libraries and Load Data\n",
    "import pandas as pd\n",
    "import numpy as np\n",
    "from sklearn.model_selection import train_test_split\n",
    "from sklearn.preprocessing import StandardScaler\n",
    "from sklearn.linear_model import LogisticRegression\n",
    "from sklearn.ensemble import RandomForestClassifier\n",
    "from sklearn.metrics import accuracy_score"
   ],
   "outputs": [],
   "execution_count": 1
  },
  {
   "metadata": {
    "ExecuteTime": {
     "end_time": "2025-06-25T01:42:04.709447Z",
     "start_time": "2025-06-25T01:42:04.703831Z"
    }
   },
   "cell_type": "code",
   "source": [
    "# Load the dataset\n",
    "file_path = '../datasets/train.csv'\n",
    "df = pd.read_csv(file_path)\n",
    "\n",
    "df_processed = df.copy()"
   ],
   "id": "d90e059b6d396fd6",
   "outputs": [],
   "execution_count": 2
  },
  {
   "metadata": {
    "ExecuteTime": {
     "end_time": "2025-06-25T01:42:04.772212Z",
     "start_time": "2025-06-25T01:42:04.768982Z"
    }
   },
   "cell_type": "code",
   "source": [
    "# ### Step 1: Initial Data Cleaning (from Part 2)\n",
    "print(\"Starting initial data cleaning...\")\n",
    "# Impute Age with the median\n",
    "df_processed['Age'] = df_processed['Age'].fillna(df_processed['Age'].median())\n",
    "\n",
    "# Impute Embarked with the mode\n",
    "df_processed['Embarked'] = df_processed['Embarked'].fillna(df_processed['Embarked'].mode()[0])\n",
    "\n",
    "# Drop the Cabin column and other unnecessary columns\n",
    "df_processed = df_processed.drop(['Cabin', 'Ticket', 'PassengerId'], axis=1)\n",
    "print(\"Initial cleaning complete.\")"
   ],
   "id": "8b5f2c58cf933f88",
   "outputs": [
    {
     "name": "stdout",
     "output_type": "stream",
     "text": [
      "Starting initial data cleaning...\n",
      "Initial cleaning complete.\n"
     ]
    }
   ],
   "execution_count": 3
  },
  {
   "metadata": {
    "ExecuteTime": {
     "end_time": "2025-06-25T01:42:04.786436Z",
     "start_time": "2025-06-25T01:42:04.781480Z"
    }
   },
   "cell_type": "code",
   "source": [
    "# ### Step 2: Feature Engineering (Creating New Features)\n",
    "print(\"Performing feature engineering...\")\n",
    "# Create FamilySize\n",
    "df_processed['FamilySize'] = df_processed['SibSp'] + df_processed['Parch'] + 1\n",
    "\n",
    "# Create IsAlone\n",
    "df_processed['IsAlone'] = (df_processed['FamilySize'] == 1).astype(int)\n",
    "\n",
    "# Extract and clean Titles from Name\n",
    "df_processed['Title'] = df_processed['Name'].str.extract(' ([A-Za-z]+)\\.', expand=False)\n",
    "df_processed['Title'] = df_processed['Title'].replace(['Lady', 'Countess','Capt', 'Col',\\\n",
    " \t'Don', 'Dr', 'Major', 'Rev', 'Sir', 'Jonkheer', 'Dona'], 'Rare')\n",
    "df_processed['Title'] = df_processed['Title'].replace({'Mlle':'Miss', 'Ms':'Miss', 'Mme':'Mrs'})\n",
    "\n",
    "# We no longer need the Name, SibSp, or Parch columns\n",
    "df_processed = df_processed.drop(['Name', 'SibSp', 'Parch'], axis=1)\n",
    "print(\"New features created.\")"
   ],
   "id": "2ebb491f5457a82a",
   "outputs": [
    {
     "name": "stdout",
     "output_type": "stream",
     "text": [
      "Performing feature engineering...\n",
      "New features created.\n"
     ]
    },
    {
     "name": "stderr",
     "output_type": "stream",
     "text": [
      "<>:10: SyntaxWarning: invalid escape sequence '\\.'\n",
      "<>:10: SyntaxWarning: invalid escape sequence '\\.'\n",
      "/var/folders/zb/9r9_90xd6q58vdc12982fnp00000gn/T/ipykernel_3907/2272272441.py:10: SyntaxWarning: invalid escape sequence '\\.'\n",
      "  df_processed['Title'] = df_processed['Name'].str.extract(' ([A-Za-z]+)\\.', expand=False)\n"
     ]
    }
   ],
   "execution_count": 4
  },
  {
   "metadata": {
    "ExecuteTime": {
     "end_time": "2025-06-25T01:42:04.856084Z",
     "start_time": "2025-06-25T01:42:04.851762Z"
    }
   },
   "cell_type": "code",
   "source": [
    "# ### Step 3: Final Data Preparation (Encoding)\n",
    "print(\"Performing final encoding...\")\n",
    "\n",
    "# Map the Title column to numbers\n",
    "title_mapping = {\"Mr\": 1, \"Miss\": 2, \"Mrs\": 3, \"Master\": 4, \"Rare\": 5}\n",
    "df_processed['Title'] = df_processed['Title'].map(title_mapping)\n",
    "\n",
    "# In case any title was missed\n",
    "df_processed['Title'] = df_processed['Title'].fillna(0)\n",
    "\n",
    "# Map Sex to numbers\n",
    "df_processed['Sex'] = df_processed['Sex'].map({'male': 0, 'female': 1})\n",
    "\n",
    "# One-Hot Encode the Embarked column\n",
    "df_processed = pd.get_dummies(df_processed, columns=['Embarked'], drop_first=True, dtype=int)\n",
    "print(\"Encoding complete.\")"
   ],
   "id": "31999c3a6834876c",
   "outputs": [
    {
     "name": "stdout",
     "output_type": "stream",
     "text": [
      "Performing final encoding...\n",
      "Encoding complete.\n"
     ]
    }
   ],
   "execution_count": 5
  },
  {
   "metadata": {
    "ExecuteTime": {
     "end_time": "2025-06-25T01:42:04.883253Z",
     "start_time": "2025-06-25T01:42:04.877677Z"
    }
   },
   "cell_type": "code",
   "source": [
    "# ### Step 4: Define Feature Sets and Scale Them\n",
    "print(\"Preparing feature sets for modeling...\")\n",
    "# Define the two different sets of features we want to test\n",
    "original_features = ['Pclass', 'Sex', 'Age', 'Fare', 'Embarked_Q', 'Embarked_S']\n",
    "new_features = ['Pclass', 'Sex', 'Age', 'Fare', 'FamilySize', 'IsAlone', 'Title', 'Embarked_Q', 'Embarked_S']\n",
    "\n",
    "# Create our dataframes\n",
    "X_original = df_processed[original_features]\n",
    "X_new = df_processed[new_features]\n",
    "y = df_processed['Survived']\n",
    "\n",
    "# Scale the features\n",
    "scaler = StandardScaler()\n",
    "X_original_scaled = scaler.fit_transform(X_original)\n",
    "X_new_scaled = scaler.fit_transform(X_new)\n",
    "\n",
    "# Convert scaled arrays back to DataFrames for clarity\n",
    "X_original_scaled = pd.DataFrame(X_original_scaled, columns=original_features)\n",
    "X_new_scaled = pd.DataFrame(X_new_scaled, columns=new_features)\n",
    "print(\"Scaling complete.\")"
   ],
   "id": "6cee7a4ecb30f27d",
   "outputs": [
    {
     "name": "stdout",
     "output_type": "stream",
     "text": [
      "Preparing feature sets for modeling...\n",
      "Scaling complete.\n"
     ]
    }
   ],
   "execution_count": 6
  },
  {
   "metadata": {
    "ExecuteTime": {
     "end_time": "2025-06-25T01:42:05.014431Z",
     "start_time": "2025-06-25T01:42:04.895323Z"
    }
   },
   "cell_type": "code",
   "source": [
    "# ### Step 5: Train and Evaluate All Four Models\n",
    "print(\"\\n--- Starting Model Showdown ---\")\n",
    "# Split both feature sets\n",
    "X_orig_train, X_orig_test, y_train, y_test = train_test_split(X_original_scaled, y, test_size=0.2, random_state=42)\n",
    "X_new_train, X_new_test, _, _ = train_test_split(X_new_scaled, y, test_size=0.2, random_state=42)\n",
    "\n",
    "# --- Train and evaluate models ---\n",
    "# 1. Logistic Regression (Original Features)\n",
    "lr_orig = LogisticRegression(random_state=42).fit(X_orig_train, y_train)\n",
    "lr_orig_accuracy = accuracy_score(y_test, lr_orig.predict(X_orig_test))\n",
    "\n",
    "# 2. Logistic Regression (New Features)\n",
    "lr_new = LogisticRegression(random_state=42).fit(X_new_train, y_train)\n",
    "lr_new_accuracy = accuracy_score(y_test, lr_new.predict(X_new_test))\n",
    "\n",
    "# 3. Random Forest (Original Features)\n",
    "rf_orig = RandomForestClassifier(random_state=42).fit(X_orig_train, y_train)\n",
    "rf_orig_accuracy = accuracy_score(y_test, rf_orig.predict(X_orig_test))\n",
    "\n",
    "# 4. Random Forest (New Features)\n",
    "rf_new = RandomForestClassifier(random_state=42).fit(X_new_train, y_train)\n",
    "rf_new_accuracy = accuracy_score(y_test, rf_new.predict(X_new_test))\n",
    "\n",
    "print(\"--- Model Showdown Complete ---\")"
   ],
   "id": "9af5445750a73b6b",
   "outputs": [
    {
     "name": "stderr",
     "output_type": "stream",
     "text": [
      "/Users/eduardopolaco/PycharmProjects/Blog-AI-Projects/.venv/lib/python3.12/site-packages/sklearn/linear_model/_linear_loss.py:200: RuntimeWarning: divide by zero encountered in matmul\n",
      "  raw_prediction = X @ weights + intercept\n",
      "/Users/eduardopolaco/PycharmProjects/Blog-AI-Projects/.venv/lib/python3.12/site-packages/sklearn/linear_model/_linear_loss.py:200: RuntimeWarning: overflow encountered in matmul\n",
      "  raw_prediction = X @ weights + intercept\n",
      "/Users/eduardopolaco/PycharmProjects/Blog-AI-Projects/.venv/lib/python3.12/site-packages/sklearn/linear_model/_linear_loss.py:200: RuntimeWarning: invalid value encountered in matmul\n",
      "  raw_prediction = X @ weights + intercept\n",
      "/Users/eduardopolaco/PycharmProjects/Blog-AI-Projects/.venv/lib/python3.12/site-packages/sklearn/utils/extmath.py:203: RuntimeWarning: divide by zero encountered in matmul\n",
      "  ret = a @ b\n",
      "/Users/eduardopolaco/PycharmProjects/Blog-AI-Projects/.venv/lib/python3.12/site-packages/sklearn/utils/extmath.py:203: RuntimeWarning: overflow encountered in matmul\n",
      "  ret = a @ b\n",
      "/Users/eduardopolaco/PycharmProjects/Blog-AI-Projects/.venv/lib/python3.12/site-packages/sklearn/utils/extmath.py:203: RuntimeWarning: invalid value encountered in matmul\n",
      "  ret = a @ b\n",
      "/Users/eduardopolaco/PycharmProjects/Blog-AI-Projects/.venv/lib/python3.12/site-packages/sklearn/linear_model/_linear_loss.py:200: RuntimeWarning: divide by zero encountered in matmul\n",
      "  raw_prediction = X @ weights + intercept\n",
      "/Users/eduardopolaco/PycharmProjects/Blog-AI-Projects/.venv/lib/python3.12/site-packages/sklearn/linear_model/_linear_loss.py:200: RuntimeWarning: overflow encountered in matmul\n",
      "  raw_prediction = X @ weights + intercept\n",
      "/Users/eduardopolaco/PycharmProjects/Blog-AI-Projects/.venv/lib/python3.12/site-packages/sklearn/linear_model/_linear_loss.py:200: RuntimeWarning: invalid value encountered in matmul\n",
      "  raw_prediction = X @ weights + intercept\n",
      "/Users/eduardopolaco/PycharmProjects/Blog-AI-Projects/.venv/lib/python3.12/site-packages/sklearn/linear_model/_linear_loss.py:330: RuntimeWarning: divide by zero encountered in matmul\n",
      "  grad[:n_features] = X.T @ grad_pointwise + l2_reg_strength * weights\n",
      "/Users/eduardopolaco/PycharmProjects/Blog-AI-Projects/.venv/lib/python3.12/site-packages/sklearn/linear_model/_linear_loss.py:330: RuntimeWarning: overflow encountered in matmul\n",
      "  grad[:n_features] = X.T @ grad_pointwise + l2_reg_strength * weights\n",
      "/Users/eduardopolaco/PycharmProjects/Blog-AI-Projects/.venv/lib/python3.12/site-packages/sklearn/linear_model/_linear_loss.py:330: RuntimeWarning: invalid value encountered in matmul\n",
      "  grad[:n_features] = X.T @ grad_pointwise + l2_reg_strength * weights\n",
      "/Users/eduardopolaco/PycharmProjects/Blog-AI-Projects/.venv/lib/python3.12/site-packages/sklearn/utils/extmath.py:203: RuntimeWarning: divide by zero encountered in matmul\n",
      "  ret = a @ b\n",
      "/Users/eduardopolaco/PycharmProjects/Blog-AI-Projects/.venv/lib/python3.12/site-packages/sklearn/utils/extmath.py:203: RuntimeWarning: overflow encountered in matmul\n",
      "  ret = a @ b\n",
      "/Users/eduardopolaco/PycharmProjects/Blog-AI-Projects/.venv/lib/python3.12/site-packages/sklearn/utils/extmath.py:203: RuntimeWarning: invalid value encountered in matmul\n",
      "  ret = a @ b\n"
     ]
    },
    {
     "name": "stdout",
     "output_type": "stream",
     "text": [
      "\n",
      "--- Starting Model Showdown ---\n",
      "--- Model Showdown Complete ---\n"
     ]
    }
   ],
   "execution_count": 7
  },
  {
   "metadata": {
    "ExecuteTime": {
     "end_time": "2025-06-25T01:42:05.055101Z",
     "start_time": "2025-06-25T01:42:05.052427Z"
    }
   },
   "cell_type": "code",
   "source": [
    "# ### Step 6: Display the Results in a Clean Table\n",
    "print(\"\\n--- Final Results ---\")\n",
    "results_data = {\n",
    "    \"Model\": [\"Logistic Regression\", \"Logistic Regression\", \"Random Forest\", \"Random Forest\"],\n",
    "    \"Features\": [\"Original\", \"New & Improved\", \"Original\", \"New & Improved\"],\n",
    "    \"Accuracy\": [lr_orig_accuracy, lr_new_accuracy, rf_orig_accuracy, rf_new_accuracy]\n",
    "}\n",
    "\n",
    "results_df = pd.DataFrame(results_data)\n",
    "\n",
    "# Format the accuracy as a percentage\n",
    "results_df['Accuracy'] = (results_df['Accuracy'] * 100).map('{:.2f}%'.format)\n",
    "\n",
    "print(results_df)"
   ],
   "id": "360bc6a62d3f6ac",
   "outputs": [
    {
     "name": "stdout",
     "output_type": "stream",
     "text": [
      "\n",
      "--- Final Results ---\n",
      "                 Model        Features Accuracy\n",
      "0  Logistic Regression        Original   79.89%\n",
      "1  Logistic Regression  New & Improved   78.77%\n",
      "2        Random Forest        Original   79.33%\n",
      "3        Random Forest  New & Improved   82.68%\n"
     ]
    }
   ],
   "execution_count": 8
  }
 ],
 "metadata": {
  "kernelspec": {
   "display_name": "Python 3",
   "language": "python",
   "name": "python3"
  },
  "language_info": {
   "codemirror_mode": {
    "name": "ipython",
    "version": 2
   },
   "file_extension": ".py",
   "mimetype": "text/x-python",
   "name": "python",
   "nbconvert_exporter": "python",
   "pygments_lexer": "ipython2",
   "version": "2.7.6"
  }
 },
 "nbformat": 4,
 "nbformat_minor": 5
}
