{
 "cells": [
  {
   "cell_type": "code",
   "execution_count": null,
   "id": "initial_id",
   "metadata": {
    "collapsed": true
   },
   "outputs": [],
   "source": [
    "# Import the necessary libraries\n",
    "import pandas as pd\n",
    "from sklearn.model_selection import train_test_split\n",
    "from sklearn.linear_model import LogisticRegression\n",
    "from sklearn.metrics import accuracy_score\n",
    "\n",
    "# Assume 'df_clean' is your prepared DataFrame from the EDA.\n",
    "# If you are starting in a new notebook, you would load and clean it first.\n",
    "\n",
    "# --- Step 1: Define Features (X) and Target (y) ---\n",
    "# The target is the 'result' column we engineered.\n",
    "y = df_clean['result']\n",
    "\n",
    "# The features are all other columns, EXCEPT for ones that would \"leak\" the answer.\n",
    "# We must drop the scores, as they are used to calculate the result.\n",
    "# We also drop non-predictive columns like date and stadium for this simple model.\n",
    "features_to_drop = ['result', 'score_home', 'score_away', 'schedule_date', 'stadium']\n",
    "X = df_clean.drop(columns=features_to_drop)\n",
    "\n",
    "\n",
    "# --- Step 2: Convert Text Columns to Numbers (One-Hot Encoding) ---\n",
    "# This will handle the team names and the schedule_week, which is also text.\n",
    "print(\"Preparing data... (This may take a moment)\")\n",
    "X_encoded = pd.get_dummies(X)\n",
    "\n",
    "\n",
    "# --- Step 3: Split the Data into Training and Testing Sets ---\n",
    "# We use an 80/20 split. random_state ensures we get the same split every time.\n",
    "X_train, X_test, y_train, y_test = train_test_split(X_encoded, y, test_size=0.2, random_state=42)\n",
    "\n",
    "\n",
    "# --- Step 4: Train the Logistic Regression Model ---\n",
    "# We'll use max_iter=1000 to ensure the model converges without issues.\n",
    "model = LogisticRegression(max_iter=1000, random_state=42)\n",
    "print(\"Training the model...\")\n",
    "model.fit(X_train, y_train)\n",
    "print(\"Model training complete.\")\n",
    "\n",
    "\n",
    "# --- Step 5: Evaluate the Model's Performance ---\n",
    "# We make predictions on the test data that the model has never seen before.\n",
    "predictions = model.predict(X_test)\n",
    "\n",
    "# We calculate the accuracy by comparing the predictions to the real outcomes.\n",
    "accuracy = accuracy_score(y_test, predictions)\n",
    "\n",
    "print(\"\\n--- Model Evaluation ---\")\n",
    "print(f\"Our model's accuracy is: {accuracy * 100:.2f}%\")\n",
    "print(f\"Baseline to beat (Home-Field Advantage): 57.00%\")\n",
    "\n",
    "if accuracy * 100 > 57:\n",
    "    print(\"\\nSuccess! Our model is better than the baseline.\")\n",
    "else:\n",
    "    print(\"\\nOur model did not outperform the baseline.\")\n"
   ]
  }
 ],
 "metadata": {
  "kernelspec": {
   "display_name": "Python 3",
   "language": "python",
   "name": "python3"
  },
  "language_info": {
   "codemirror_mode": {
    "name": "ipython",
    "version": 2
   },
   "file_extension": ".py",
   "mimetype": "text/x-python",
   "name": "python",
   "nbconvert_exporter": "python",
   "pygments_lexer": "ipython2",
   "version": "2.7.6"
  }
 },
 "nbformat": 4,
 "nbformat_minor": 5
}
