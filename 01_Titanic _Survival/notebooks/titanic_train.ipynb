{
 "cells": [
  {
   "cell_type": "code",
   "id": "initial_id",
   "metadata": {
    "collapsed": true,
    "ExecuteTime": {
     "end_time": "2025-06-18T01:00:50.749223Z",
     "start_time": "2025-06-18T01:00:50.747842Z"
    }
   },
   "source": [
    "import pandas as pd\n",
    "import numpy as np\n",
    "import matplotlib.pyplot as plt\n",
    "import seaborn as sns"
   ],
   "outputs": [],
   "execution_count": 1
  },
  {
   "metadata": {
    "ExecuteTime": {
     "end_time": "2025-06-18T01:00:50.805320Z",
     "start_time": "2025-06-18T01:00:50.801767Z"
    }
   },
   "cell_type": "code",
   "source": [
    "file_path = '../datasets/train.csv'\n",
    "df=pd.read_csv(file_path)"
   ],
   "id": "6cd5a47b03d6f94",
   "outputs": [],
   "execution_count": 2
  },
  {
   "metadata": {
    "ExecuteTime": {
     "end_time": "2025-06-18T01:00:50.815352Z",
     "start_time": "2025-06-18T01:00:50.813339Z"
    }
   },
   "cell_type": "code",
   "source": [
    "#--- Fill missing Age values with the median age ---#\n",
    "median_age = df['Age'].median()\n",
    "df['Age'] = df['Age'].fillna(median_age)"
   ],
   "id": "933bbfa6f7b24006",
   "outputs": [],
   "execution_count": 3
  },
  {
   "metadata": {
    "ExecuteTime": {
     "end_time": "2025-06-18T01:00:50.823359Z",
     "start_time": "2025-06-18T01:00:50.821665Z"
    }
   },
   "cell_type": "code",
   "source": [
    "#--- Fill missing Embarked values with the most common port ---#\n",
    "mode_embarked = df['Embarked'].mode()[0]\n",
    "df['Embarked'] = df['Embarked'].fillna(mode_embarked)"
   ],
   "id": "91a13d194792a308",
   "outputs": [],
   "execution_count": 4
  },
  {
   "metadata": {
    "ExecuteTime": {
     "end_time": "2025-06-18T01:00:50.833937Z",
     "start_time": "2025-06-18T01:00:50.831603Z"
    }
   },
   "cell_type": "code",
   "source": [
    "#--- Drop the Cabin column ---#\n",
    "mode_embarked = df['Embarked'].mode()[0]\n",
    "df.drop('Cabin', axis=1, inplace=True)"
   ],
   "id": "26efa990c76ae482",
   "outputs": [],
   "execution_count": 5
  },
  {
   "metadata": {
    "ExecuteTime": {
     "end_time": "2025-06-18T01:00:50.844757Z",
     "start_time": "2025-06-18T01:00:50.841590Z"
    }
   },
   "cell_type": "code",
   "source": [
    "#--- Convert 'Sex' to 0s and 1s ---#\n",
    "df['Sex'] = df['Sex'].map({'male': 0, 'female': 1})\n",
    "\n",
    "#--- Convert 'Embarked' to numbers using one-hot encoding ---#\n",
    "df = pd.get_dummies(df, columns=['Embarked'], drop_first=True)"
   ],
   "id": "5f167178ef5236d6",
   "outputs": [],
   "execution_count": 6
  },
  {
   "metadata": {
    "ExecuteTime": {
     "end_time": "2025-06-18T01:00:50.988049Z",
     "start_time": "2025-06-18T01:00:50.852651Z"
    }
   },
   "cell_type": "code",
   "source": [
    "from sklearn.model_selection import train_test_split\n",
    "\n",
    "#--- Define features (X) and target (y) ---#\n",
    "features = ['Pclass', 'Sex', 'Age', 'SibSp', 'Parch', 'Fare', 'Embarked_Q', 'Embarked_S']\n",
    "X = df[features]\n",
    "y = df['Survived']\n",
    "\n",
    "#--- Split data into training and testing sets ---#\n",
    "X_train, X_test, y_train, y_test = train_test_split(X, y, test_size=0.2, random_state=42)"
   ],
   "id": "65c4f2294805bd66",
   "outputs": [],
   "execution_count": 7
  },
  {
   "metadata": {
    "ExecuteTime": {
     "end_time": "2025-06-18T01:00:51.065765Z",
     "start_time": "2025-06-18T01:00:50.997907Z"
    }
   },
   "cell_type": "code",
   "source": [
    "# Import the necessary tools from scikit-learn\n",
    "from sklearn.linear_model import LogisticRegression\n",
    "from sklearn.metrics import accuracy_score\n",
    "\n",
    "# --- Create and Train the Model ---\n",
    "\n",
    "# 1. Create an instance of the model.\n",
    "#    max_iter=1000 helps the model find a solution without convergence issues.\n",
    "model = LogisticRegression(max_iter=1000)\n",
    "\n",
    "# 2. Train the model with our training data (X_train are the features, y_train is the answer)\n",
    "print(\"Training the model...\")\n",
    "model.fit(X_train, y_train)\n",
    "print(\"Model trained!\")\n",
    "\n",
    "\n",
    "# --- Make Predictions and Evaluate ---\n",
    "\n",
    "# 3. Make predictions on the test set\n",
    "predictions = model.predict(X_test)\n",
    "\n",
    "# 4. Compare our predictions with the actual results (y_test) to measure accuracy\n",
    "accuracy = accuracy_score(y_test, predictions)\n",
    "\n",
    "# 5. Print the result clearly\n",
    "#    The :.4f formats the number to show only 4 decimal places.\n",
    "print(f\"\\nOur model's accuracy is: {accuracy:.4f}\")"
   ],
   "id": "3556e10f06168640",
   "outputs": [
    {
     "name": "stdout",
     "output_type": "stream",
     "text": [
      "Training the model...\n",
      "Model trained!\n",
      "\n",
      "Our model's accuracy is: 0.8101\n"
     ]
    },
    {
     "name": "stderr",
     "output_type": "stream",
     "text": [
      "/Users/eduardopolaco/PycharmProjects/Blog-AI-Projects/.venv/lib/python3.12/site-packages/sklearn/linear_model/_linear_loss.py:200: RuntimeWarning: divide by zero encountered in matmul\n",
      "  raw_prediction = X @ weights + intercept\n",
      "/Users/eduardopolaco/PycharmProjects/Blog-AI-Projects/.venv/lib/python3.12/site-packages/sklearn/linear_model/_linear_loss.py:200: RuntimeWarning: overflow encountered in matmul\n",
      "  raw_prediction = X @ weights + intercept\n",
      "/Users/eduardopolaco/PycharmProjects/Blog-AI-Projects/.venv/lib/python3.12/site-packages/sklearn/linear_model/_linear_loss.py:200: RuntimeWarning: invalid value encountered in matmul\n",
      "  raw_prediction = X @ weights + intercept\n",
      "/Users/eduardopolaco/PycharmProjects/Blog-AI-Projects/.venv/lib/python3.12/site-packages/sklearn/linear_model/_linear_loss.py:330: RuntimeWarning: divide by zero encountered in matmul\n",
      "  grad[:n_features] = X.T @ grad_pointwise + l2_reg_strength * weights\n",
      "/Users/eduardopolaco/PycharmProjects/Blog-AI-Projects/.venv/lib/python3.12/site-packages/sklearn/linear_model/_linear_loss.py:330: RuntimeWarning: overflow encountered in matmul\n",
      "  grad[:n_features] = X.T @ grad_pointwise + l2_reg_strength * weights\n",
      "/Users/eduardopolaco/PycharmProjects/Blog-AI-Projects/.venv/lib/python3.12/site-packages/sklearn/linear_model/_linear_loss.py:330: RuntimeWarning: invalid value encountered in matmul\n",
      "  grad[:n_features] = X.T @ grad_pointwise + l2_reg_strength * weights\n",
      "/Users/eduardopolaco/PycharmProjects/Blog-AI-Projects/.venv/lib/python3.12/site-packages/sklearn/utils/extmath.py:203: RuntimeWarning: divide by zero encountered in matmul\n",
      "  ret = a @ b\n",
      "/Users/eduardopolaco/PycharmProjects/Blog-AI-Projects/.venv/lib/python3.12/site-packages/sklearn/utils/extmath.py:203: RuntimeWarning: overflow encountered in matmul\n",
      "  ret = a @ b\n",
      "/Users/eduardopolaco/PycharmProjects/Blog-AI-Projects/.venv/lib/python3.12/site-packages/sklearn/utils/extmath.py:203: RuntimeWarning: invalid value encountered in matmul\n",
      "  ret = a @ b\n"
     ]
    }
   ],
   "execution_count": 8
  }
 ],
 "metadata": {
  "kernelspec": {
   "display_name": "Python 3",
   "language": "python",
   "name": "python3"
  },
  "language_info": {
   "codemirror_mode": {
    "name": "ipython",
    "version": 2
   },
   "file_extension": ".py",
   "mimetype": "text/x-python",
   "name": "python",
   "nbconvert_exporter": "python",
   "pygments_lexer": "ipython2",
   "version": "2.7.6"
  }
 },
 "nbformat": 4,
 "nbformat_minor": 5
}
