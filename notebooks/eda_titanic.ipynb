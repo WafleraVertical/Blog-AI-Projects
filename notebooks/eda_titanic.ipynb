{
 "cells": [
  {
   "cell_type": "code",
   "id": "initial_id",
   "metadata": {
    "collapsed": true
   },
   "source": [
    "#--- Libraries ---#\n",
    "import pandas as pd\n",
    "import numpy as np\n",
    "import matplotlib.pyplot as plt\n",
    "import seaborn as sns"
   ],
   "outputs": [],
   "execution_count": null
  },
  {
   "metadata": {},
   "cell_type": "code",
   "source": [
    "#--- Style Configuration ---#\n",
    "sns.set_style(\"whitegrid\")\n",
    "plt.style.use('seaborn-v0_8-deep')\n",
    "sns.set_palette(\"pastel\")\n",
    "sns.set_context(\"paper\")"
   ],
   "id": "9626082693c8c29b",
   "outputs": [],
   "execution_count": null
  },
  {
   "metadata": {},
   "cell_type": "code",
   "source": [
    "#--- Data charge ---#\n",
    "file_path = '../datasets/titanic/train.csv'\n",
    "df=pd.read_csv(file_path)"
   ],
   "id": "841971712f37ead2",
   "outputs": [],
   "execution_count": null
  },
  {
   "metadata": {},
   "cell_type": "code",
   "source": [
    "#--- Check the first 5 rows ---#\n",
    "df.head()"
   ],
   "id": "b060b7252dc09cd3",
   "outputs": [],
   "execution_count": null
  },
  {
   "metadata": {},
   "cell_type": "code",
   "source": [
    "#--- Technical Summary ---#\n",
    "df.info()"
   ],
   "id": "2f8bff6a75ea1e11",
   "outputs": [],
   "execution_count": null
  },
  {
   "metadata": {},
   "cell_type": "code",
   "source": [
    "#--- Statistical Summary ---#\n",
    "df.describe()"
   ],
   "id": "1a43e2d6db0eaa92",
   "outputs": [],
   "execution_count": null
  },
  {
   "metadata": {},
   "cell_type": "code",
   "source": [
    "#---We're going to check the target variable (Survived)\n",
    "plt.figure(figsize=(8,6))\n",
    "sns.countplot(x='Survived', data=df) # This will now be in pastel colors\n",
    "plt.title('Survival Distribution (0 = No, 1 = Yes)', fontsize=14)\n",
    "plt.xlabel('Status', fontsize=12)\n",
    "plt.ylabel('Number of Passengers', fontsize=12)\n",
    "plt.xticks([0, 1], ['Did not Survive', 'Survived'])\n",
    "plt.show()"
   ],
   "id": "498d384259853d68",
   "outputs": [],
   "execution_count": null
  },
  {
   "metadata": {},
   "cell_type": "code",
   "source": [
    "#--- A plot to see how many people from each class survived ---#\n",
    "plt.figure(figsize=(10,6))\n",
    "sns.countplot(\n",
    "    x='Pclass',\n",
    "    data=df,\n",
    "    hue='Survived',\n",
    "    palette='viridis',\n",
    ")\n",
    "\n",
    "#--- Titles and labels for clarity ---#\n",
    "plt.title('Survival Count by Passenger Class', fontsize=14)\n",
    "plt.xlabel('Passenger Class', fontsize=12)\n",
    "plt.ylabel('Number of Passengers', fontsize=12)\n",
    "plt.legend(\n",
    "    title='Status',\n",
    "    labels=['Not Survived', 'Survived'],\n",
    ")\n",
    "plt.show()"
   ],
   "id": "3b0bf022817ffbaa",
   "outputs": [],
   "execution_count": null
  },
  {
   "metadata": {},
   "cell_type": "code",
   "source": [
    "#--- Now , let's go with the survival rates for men and women ---#\n",
    "plt.figure(figsize=(10,6))\n",
    "sns.countplot(\n",
    "    x='Sex',\n",
    "    hue='Survived',\n",
    "    palette='plasma',\n",
    "    data=df,\n",
    ")\n",
    "\n",
    "#--- Titles and labels for clarity ---#\n",
    "plt.title('Survival Count by Gender', fontsize=14)\n",
    "plt.xlabel('Gender', fontsize=12)\n",
    "plt.ylabel('Number of Passengers', fontsize=12)\n",
    "plt.legend(\n",
    "    title='Status',\n",
    "    labels=['Not Survived', 'Survived'],\n",
    ")\n",
    "\n"
   ],
   "id": "798d665580335cf0",
   "outputs": [],
   "execution_count": null
  },
  {
   "metadata": {},
   "cell_type": "code",
   "source": [
    "#--- Grid of plots: one for passengers who survived, one for those who did not ---#\n",
    "\n",
    "g = sns.FacetGrid(df, col='Survived', height=6)\n",
    "\n",
    "g.map(sns.histplot, 'Age', bins=30, kde=True)\n",
    "\n",
    "g.set_axis_labels(\"Age\", \"Number of Passengers\")\n",
    "g.axes[0,0].set_title('Did not Survive')\n",
    "g.axes[0,1].set_title('Survived')\n",
    "\n",
    "plt.show()"
   ],
   "id": "ff0b25fd01149a83",
   "outputs": [],
   "execution_count": null
  },
  {
   "metadata": {},
   "cell_type": "code",
   "source": [
    "#--- Now we are going to check the relation with the ticket prize ---#\n",
    "plt.figure(figsize=(10,6))\n",
    "\n",
    "sns.boxplot(x='Survived', y='Fare', data=df, palette='viridis')\n",
    "\n",
    "#--- Add titles and labels ---#\n",
    "\n",
    "plt.title('Fare Distribution by Survival Status', fontsize=14)\n",
    "plt.xlabel('Survival Status', fontsize=12)\n",
    "plt.ylabel('Fare', fontsize=12)\n",
    "plt.xticks([0,1],['Not Survived', 'Survived'])\n",
    "plt.ylim(0,300)\n",
    "plt.show()"
   ],
   "id": "4a303108637c7f58",
   "outputs": [],
   "execution_count": null
  }
 ],
 "metadata": {
  "kernelspec": {
   "display_name": "Python 3",
   "language": "python",
   "name": "python3"
  },
  "language_info": {
   "codemirror_mode": {
    "name": "ipython",
    "version": 2
   },
   "file_extension": ".py",
   "mimetype": "text/x-python",
   "name": "python",
   "nbconvert_exporter": "python",
   "pygments_lexer": "ipython2",
   "version": "2.7.6"
  }
 },
 "nbformat": 4,
 "nbformat_minor": 5
}
